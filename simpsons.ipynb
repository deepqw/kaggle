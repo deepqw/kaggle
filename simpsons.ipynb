{
 "cells": [
  {
   "cell_type": "markdown",
   "source": [
    "Import packages"
   ],
   "metadata": {
    "collapsed": false
   }
  },
  {
   "cell_type": "code",
   "execution_count": 1,
   "outputs": [],
   "source": [
    "import os\n",
    "import numpy as np\n",
    "import pandas as pd\n",
    "import seaborn as sns\n",
    "import matplotlib.pyplot as plt\n",
    "from sklearn.model_selection import train_test_split\n",
    "from sklearn.utils.class_weight import compute_class_weight\n",
    "import torch\n",
    "from torch import nn\n",
    "from torch.utils.data import DataLoader, Subset\n",
    "from torchvision import datasets, models\n",
    "from torchvision.transforms import v2\n",
    "from torcheval.metrics.functional import multiclass_f1_score\n",
    "from collections import Counter\n",
    "from tqdm import tqdm"
   ],
   "metadata": {
    "collapsed": false,
    "ExecuteTime": {
     "end_time": "2024-02-10T18:14:56.230888Z",
     "start_time": "2024-02-10T18:14:54.882078Z"
    }
   }
  },
  {
   "cell_type": "markdown",
   "source": [
    "Load and transform data"
   ],
   "metadata": {
    "collapsed": false
   }
  },
  {
   "cell_type": "code",
   "outputs": [
    {
     "data": {
      "text/plain": "Dataset ImageFolder\n    Number of datapoints: 20933\n    Root location: train/simpsons_dataset/\n    StandardTransform\nTransform: Compose(\n                 Resize(size=[256, 256], interpolation=InterpolationMode.BILINEAR, antialias=warn)\n                 CenterCrop(size=(224, 224))\n                 ToImage()\n                 ToDtype(scale=True)\n                 Normalize(mean=[0.485, 0.456, 0.406], std=[0.229, 0.224, 0.225], inplace=False)\n           )"
     },
     "execution_count": 2,
     "metadata": {},
     "output_type": "execute_result"
    }
   ],
   "source": [
    "path = 'train/simpsons_dataset/'\n",
    "transform = v2.Compose([\n",
    "    v2.Resize((256, 256)),\n",
    "    v2.CenterCrop(224),\n",
    "    v2.ToImage(),\n",
    "    v2.ToDtype(torch.float, scale=True),\n",
    "    # v2.ToTensor(),\n",
    "    v2.Normalize(mean=[0.485, 0.456, 0.406], std=[0.229, 0.224, 0.225])\n",
    "])\n",
    "data = datasets.ImageFolder(path, transform=transform)\n",
    "data"
   ],
   "metadata": {
    "collapsed": false,
    "ExecuteTime": {
     "end_time": "2024-02-10T18:14:56.296858Z",
     "start_time": "2024-02-10T18:14:56.231844Z"
    }
   },
   "execution_count": 2
  },
  {
   "cell_type": "markdown",
   "source": [
    "Split data to training and test subsets"
   ],
   "metadata": {
    "collapsed": false
   }
  },
  {
   "cell_type": "code",
   "outputs": [
    {
     "data": {
      "text/plain": "array([ 0,  0,  0, ..., 41, 41, 41])"
     },
     "execution_count": 3,
     "metadata": {},
     "output_type": "execute_result"
    }
   ],
   "source": [
    "y = np.array([i[1] for i in data])\n",
    "y"
   ],
   "metadata": {
    "collapsed": false,
    "ExecuteTime": {
     "end_time": "2024-02-10T18:15:47.101724Z",
     "start_time": "2024-02-10T18:14:56.294298Z"
    }
   },
   "execution_count": 3
  },
  {
   "cell_type": "code",
   "outputs": [
    {
     "data": {
      "text/plain": "array([15895, 14197,  3968, ...,  9963, 19807,  3183])"
     },
     "execution_count": 4,
     "metadata": {},
     "output_type": "execute_result"
    }
   ],
   "source": [
    "train_data, test_data = train_test_split(np.arange(len(data)), test_size=0.25, stratify=y, random_state=42)\n",
    "train_data"
   ],
   "metadata": {
    "collapsed": false,
    "ExecuteTime": {
     "end_time": "2024-02-10T18:15:47.107898Z",
     "start_time": "2024-02-10T18:15:47.098058Z"
    }
   },
   "execution_count": 4
  },
  {
   "cell_type": "code",
   "outputs": [
    {
     "data": {
      "text/plain": "<torch.utils.data.dataset.Subset at 0x28a279350>"
     },
     "execution_count": 5,
     "metadata": {},
     "output_type": "execute_result"
    }
   ],
   "source": [
    "train_data = Subset(data, train_data)\n",
    "test_data = Subset(data, test_data)\n",
    "test_data"
   ],
   "metadata": {
    "collapsed": false,
    "ExecuteTime": {
     "end_time": "2024-02-10T18:15:47.108544Z",
     "start_time": "2024-02-10T18:15:47.104806Z"
    }
   },
   "execution_count": 5
  },
  {
   "cell_type": "markdown",
   "source": [
    "Use GPU if available"
   ],
   "metadata": {
    "collapsed": false
   }
  },
  {
   "cell_type": "code",
   "outputs": [
    {
     "name": "stdout",
     "output_type": "stream",
     "text": [
      "Using mps device\n"
     ]
    }
   ],
   "source": [
    "device = (\n",
    "    \"cuda\"\n",
    "    if torch.cuda.is_available()\n",
    "    else \"mps\"\n",
    "    if torch.backends.mps.is_available()\n",
    "    else \"cpu\"\n",
    ")\n",
    "print(f\"Using {device} device\")"
   ],
   "metadata": {
    "collapsed": false,
    "ExecuteTime": {
     "end_time": "2024-02-10T18:15:47.136296Z",
     "start_time": "2024-02-10T18:15:47.131512Z"
    }
   },
   "execution_count": 6
  },
  {
   "cell_type": "markdown",
   "source": [
    "Check if data is imbalanced"
   ],
   "metadata": {
    "collapsed": false
   }
  },
  {
   "cell_type": "code",
   "outputs": [
    {
     "data": {
      "text/plain": "<Axes: >"
     },
     "execution_count": 7,
     "metadata": {},
     "output_type": "execute_result"
    },
    {
     "data": {
      "text/plain": "<Figure size 640x480 with 1 Axes>",
      "image/png": "[encoded data removed]"
     },
     "metadata": {},
     "output_type": "display_data"
    }
   ],
   "source": [
    "sns.barplot(data=Counter(y))"
   ],
   "metadata": {
    "collapsed": false,
    "ExecuteTime": {
     "end_time": "2024-02-10T18:15:47.480472Z",
     "start_time": "2024-02-10T18:15:47.137257Z"
    }
   },
   "execution_count": 7
  },
  {
   "cell_type": "markdown",
   "source": [
    "Get weights for each class, because data is imbalanced"
   ],
   "metadata": {
    "collapsed": false
   }
  },
  {
   "cell_type": "code",
   "outputs": [
    {
     "data": {
      "text/plain": "tensor([  0.5459,  11.8668,   0.8000,   4.7019,   0.3714,   5.0858,   0.4178,\n          0.5055,  10.6044,   1.0627,  62.3006,   1.0906,  18.4594,  18.4594,\n          4.1190,   0.2219,   1.0008,   0.4133,   1.6078, 166.1349,   0.3681,\n          3.8938,   0.3861,   7.0198,   2.0260,   0.4619,  29.3179,   0.3433,\n          0.3428,   1.3922,  15.5751,   6.9223,   0.4174,   7.6678,  11.0757,\n          5.6001,   4.8389,   0.5683,  12.4601,   9.0619,  62.3006,   2.7536],\n       device='mps:0')"
     },
     "execution_count": 8,
     "metadata": {},
     "output_type": "execute_result"
    }
   ],
   "source": [
    "weight = compute_class_weight(class_weight='balanced', classes=np.unique(y), y=y)\n",
    "weight = torch.tensor(weight).to(torch.float).to(device)\n",
    "weight"
   ],
   "metadata": {
    "collapsed": false,
    "ExecuteTime": {
     "end_time": "2024-02-10T18:15:47.572580Z",
     "start_time": "2024-02-10T18:15:47.453921Z"
    }
   },
   "execution_count": 8
  },
  {
   "cell_type": "markdown",
   "source": [
    "Prepare data for fitting"
   ],
   "metadata": {
    "collapsed": false
   }
  },
  {
   "cell_type": "code",
   "outputs": [
    {
     "name": "stdout",
     "output_type": "stream",
     "text": [
      "Shape of X [N, C, H, W]: torch.Size([64, 3, 224, 224])\n",
      "Shape of y: torch.Size([64]) torch.int64\n"
     ]
    }
   ],
   "source": [
    "batch_size = 64\n",
    "train_dataloader = DataLoader(train_data, batch_size=batch_size, shuffle=True)\n",
    "test_dataloader = DataLoader(test_data, batch_size=batch_size, shuffle=False)\n",
    "for X, y in test_dataloader:\n",
    "    print(f\"Shape of X [N, C, H, W]: {X.shape}\")\n",
    "    print(f\"Shape of y: {y.shape} {y.dtype}\")\n",
    "    break"
   ],
   "metadata": {
    "collapsed": false,
    "ExecuteTime": {
     "end_time": "2024-02-10T18:15:47.739306Z",
     "start_time": "2024-02-10T18:15:47.571377Z"
    }
   },
   "execution_count": 9
  },
  {
   "cell_type": "code",
   "outputs": [],
   "source": [
    "# batch_size = 64\n",
    "# dataloader = DataLoader(data, batch_size=batch_size)\n",
    "# for X, y in dataloader:\n",
    "#     print(f\"Shape of X [N, C, H, W]: {X.shape}\")\n",
    "#     print(f\"Shape of y: {y.shape} {y.dtype}\")\n",
    "#     break"
   ],
   "metadata": {
    "collapsed": false,
    "ExecuteTime": {
     "end_time": "2024-02-10T18:15:47.739809Z",
     "start_time": "2024-02-10T18:15:47.735498Z"
    }
   },
   "execution_count": 10
  },
  {
   "cell_type": "markdown",
   "source": [
    "Make class of CNN"
   ],
   "metadata": {
    "collapsed": false
   }
  },
  {
   "cell_type": "code",
   "execution_count": 11,
   "outputs": [],
   "source": [
    "# class CNN(nn.Module):\n",
    "#     def __init__(self):\n",
    "#         super().__init__()\n",
    "#         self.cnn = nn.Sequential(\n",
    "#             nn.Conv2d(in_channels=3, out_channels=16, kernel_size=4, stride=1, padding=1),\n",
    "#             nn.ReLU(),\n",
    "#             nn.MaxPool2d(kernel_size=4),\n",
    "#             nn.Conv2d(in_channels=16, out_channels=32, kernel_size=4, stride=1, padding=1),\n",
    "#             nn.ReLU(),\n",
    "#             nn.MaxPool2d(kernel_size=4),\n",
    "#             nn.Conv2d(in_channels=32, out_channels=64, kernel_size=4, stride=1, padding=1),\n",
    "#             nn.ReLU(),\n",
    "#             nn.MaxPool2d(kernel_size=4)\n",
    "#         )\n",
    "#         self.mpl = nn.Sequential(\n",
    "#             nn.Flatten(),\n",
    "#             nn.Linear(in_features=64 * 3 * 3, out_features=4096, bias=True),\n",
    "#             nn.ReLU(),\n",
    "#             nn.Linear(in_features=4096, out_features=4096, bias=True),\n",
    "#             nn.ReLU(),\n",
    "#             nn.Linear(in_features=4096, out_features=42, bias=True),\n",
    "#             # nn.Softmax(dim=1)\n",
    "#         )\n",
    "# \n",
    "#     def forward(self, x):\n",
    "#         x = self.cnn(x)\n",
    "#         # print(x.shape)\n",
    "#         x = self.mpl(x)\n",
    "#         return x\n",
    "# \n",
    "# \n",
    "# model = CNN().to(device)\n",
    "# model"
   ],
   "metadata": {
    "collapsed": false,
    "ExecuteTime": {
     "end_time": "2024-02-10T18:15:47.740852Z",
     "start_time": "2024-02-10T18:15:47.738178Z"
    }
   }
  },
  {
   "cell_type": "code",
   "outputs": [
    {
     "data": {
      "text/plain": "ResNet(\n  (conv1): Conv2d(3, 64, kernel_size=(7, 7), stride=(2, 2), padding=(3, 3), bias=False)\n  (bn1): BatchNorm2d(64, eps=1e-05, momentum=0.1, affine=True, track_running_stats=True)\n  (relu): ReLU(inplace=True)\n  (maxpool): MaxPool2d(kernel_size=3, stride=2, padding=1, dilation=1, ceil_mode=False)\n  (layer1): Sequential(\n    (0): BasicBlock(\n      (conv1): Conv2d(64, 64, kernel_size=(3, 3), stride=(1, 1), padding=(1, 1), bias=False)\n      (bn1): BatchNorm2d(64, eps=1e-05, momentum=0.1, affine=True, track_running_stats=True)\n      (relu): ReLU(inplace=True)\n      (conv2): Conv2d(64, 64, kernel_size=(3, 3), stride=(1, 1), padding=(1, 1), bias=False)\n      (bn2): BatchNorm2d(64, eps=1e-05, momentum=0.1, affine=True, track_running_stats=True)\n    )\n    (1): BasicBlock(\n      (conv1): Conv2d(64, 64, kernel_size=(3, 3), stride=(1, 1), padding=(1, 1), bias=False)\n      (bn1): BatchNorm2d(64, eps=1e-05, momentum=0.1, affine=True, track_running_stats=True)\n      (relu): ReLU(inplace=True)\n      (conv2): Conv2d(64, 64, kernel_size=(3, 3), stride=(1, 1), padding=(1, 1), bias=False)\n      (bn2): BatchNorm2d(64, eps=1e-05, momentum=0.1, affine=True, track_running_stats=True)\n    )\n  )\n  (layer2): Sequential(\n    (0): BasicBlock(\n      (conv1): Conv2d(64, 128, kernel_size=(3, 3), stride=(2, 2), padding=(1, 1), bias=False)\n      (bn1): BatchNorm2d(128, eps=1e-05, momentum=0.1, affine=True, track_running_stats=True)\n      (relu): ReLU(inplace=True)\n      (conv2): Conv2d(128, 128, kernel_size=(3, 3), stride=(1, 1), padding=(1, 1), bias=False)\n      (bn2): BatchNorm2d(128, eps=1e-05, momentum=0.1, affine=True, track_running_stats=True)\n      (downsample): Sequential(\n        (0): Conv2d(64, 128, kernel_size=(1, 1), stride=(2, 2), bias=False)\n        (1): BatchNorm2d(128, eps=1e-05, momentum=0.1, affine=True, track_running_stats=True)\n      )\n    )\n    (1): BasicBlock(\n      (conv1): Conv2d(128, 128, kernel_size=(3, 3), stride=(1, 1), padding=(1, 1), bias=False)\n      (bn1): BatchNorm2d(128, eps=1e-05, momentum=0.1, affine=True, track_running_stats=True)\n      (relu): ReLU(inplace=True)\n      (conv2): Conv2d(128, 128, kernel_size=(3, 3), stride=(1, 1), padding=(1, 1), bias=False)\n      (bn2): BatchNorm2d(128, eps=1e-05, momentum=0.1, affine=True, track_running_stats=True)\n    )\n  )\n  (layer3): Sequential(\n    (0): BasicBlock(\n      (conv1): Conv2d(128, 256, kernel_size=(3, 3), stride=(2, 2), padding=(1, 1), bias=False)\n      (bn1): BatchNorm2d(256, eps=1e-05, momentum=0.1, affine=True, track_running_stats=True)\n      (relu): ReLU(inplace=True)\n      (conv2): Conv2d(256, 256, kernel_size=(3, 3), stride=(1, 1), padding=(1, 1), bias=False)\n      (bn2): BatchNorm2d(256, eps=1e-05, momentum=0.1, affine=True, track_running_stats=True)\n      (downsample): Sequential(\n        (0): Conv2d(128, 256, kernel_size=(1, 1), stride=(2, 2), bias=False)\n        (1): BatchNorm2d(256, eps=1e-05, momentum=0.1, affine=True, track_running_stats=True)\n      )\n    )\n    (1): BasicBlock(\n      (conv1): Conv2d(256, 256, kernel_size=(3, 3), stride=(1, 1), padding=(1, 1), bias=False)\n      (bn1): BatchNorm2d(256, eps=1e-05, momentum=0.1, affine=True, track_running_stats=True)\n      (relu): ReLU(inplace=True)\n      (conv2): Conv2d(256, 256, kernel_size=(3, 3), stride=(1, 1), padding=(1, 1), bias=False)\n      (bn2): BatchNorm2d(256, eps=1e-05, momentum=0.1, affine=True, track_running_stats=True)\n    )\n  )\n  (layer4): Sequential(\n    (0): BasicBlock(\n      (conv1): Conv2d(256, 512, kernel_size=(3, 3), stride=(2, 2), padding=(1, 1), bias=False)\n      (bn1): BatchNorm2d(512, eps=1e-05, momentum=0.1, affine=True, track_running_stats=True)\n      (relu): ReLU(inplace=True)\n      (conv2): Conv2d(512, 512, kernel_size=(3, 3), stride=(1, 1), padding=(1, 1), bias=False)\n      (bn2): BatchNorm2d(512, eps=1e-05, momentum=0.1, affine=True, track_running_stats=True)\n      (downsample): Sequential(\n        (0): Conv2d(256, 512, kernel_size=(1, 1), stride=(2, 2), bias=False)\n        (1): BatchNorm2d(512, eps=1e-05, momentum=0.1, affine=True, track_running_stats=True)\n      )\n    )\n    (1): BasicBlock(\n      (conv1): Conv2d(512, 512, kernel_size=(3, 3), stride=(1, 1), padding=(1, 1), bias=False)\n      (bn1): BatchNorm2d(512, eps=1e-05, momentum=0.1, affine=True, track_running_stats=True)\n      (relu): ReLU(inplace=True)\n      (conv2): Conv2d(512, 512, kernel_size=(3, 3), stride=(1, 1), padding=(1, 1), bias=False)\n      (bn2): BatchNorm2d(512, eps=1e-05, momentum=0.1, affine=True, track_running_stats=True)\n    )\n  )\n  (avgpool): AdaptiveAvgPool2d(output_size=(1, 1))\n  (fc): Linear(in_features=512, out_features=42, bias=True)\n)"
     },
     "execution_count": 12,
     "metadata": {},
     "output_type": "execute_result"
    }
   ],
   "source": [
    "model = models.resnet18(weights=models.ResNet18_Weights.IMAGENET1K_V1)\n",
    "model.fc = nn.Linear(in_features=512, out_features=42, bias=True)\n",
    "model = model.to(device)\n",
    "model.eval()\n",
    "model"
   ],
   "metadata": {
    "collapsed": false,
    "ExecuteTime": {
     "end_time": "2024-02-10T18:15:47.947530Z",
     "start_time": "2024-02-10T18:15:47.741017Z"
    }
   },
   "execution_count": 12
  },
  {
   "cell_type": "markdown",
   "source": [
    "Create train function"
   ],
   "metadata": {
    "collapsed": false
   }
  },
  {
   "cell_type": "code",
   "execution_count": 13,
   "outputs": [],
   "source": [
    "def train(dataloader, model, loss_fn, optimizer):\n",
    "    model.train()\n",
    "    train_loss, correct = 0, 0\n",
    "    y_pred = torch.zeros((len(dataloader) * batch_size), dtype=torch.long).to(device)\n",
    "    y_true = torch.zeros((len(dataloader) * batch_size), dtype=torch.long).to(device)\n",
    "    num_elements = 0\n",
    "    for batch, (X, y) in enumerate(tqdm(dataloader)):\n",
    "        X, y = X.to(device), y.to(device)\n",
    "        optimizer.zero_grad()\n",
    "        pred = model(X)\n",
    "        loss = loss_fn(pred, y)\n",
    "        loss.backward()\n",
    "        optimizer.step()\n",
    "        train_loss += loss.item()\n",
    "        pred = pred.argmax(1)\n",
    "        y_pred[batch * batch_size:batch * batch_size + pred.shape[-1]] = pred\n",
    "        y_true[batch * batch_size:batch * batch_size + y.shape[-1]] = y\n",
    "        num_elements += y.shape[-1]\n",
    "    train_loss /= len(dataloader)\n",
    "    y_pred = y_pred[:num_elements]\n",
    "    y_true = y_true[:num_elements]\n",
    "    f1_score = multiclass_f1_score(y_pred, y_true)\n",
    "    print(f\"Train Error:\\nF1: {f1_score:>8f}\\nAvg loss: {train_loss:>8f}\\n\")\n",
    "    return [f1_score.item(), train_loss]"
   ],
   "metadata": {
    "collapsed": false,
    "ExecuteTime": {
     "end_time": "2024-02-10T18:15:47.948140Z",
     "start_time": "2024-02-10T18:15:47.945393Z"
    }
   }
  },
  {
   "cell_type": "markdown",
   "source": [
    "Create test function"
   ],
   "metadata": {
    "collapsed": false
   }
  },
  {
   "cell_type": "code",
   "execution_count": 14,
   "outputs": [],
   "source": [
    "def test(dataloader, model, loss_fn):\n",
    "    model.eval()\n",
    "    test_loss = 0\n",
    "    y_pred = torch.zeros((len(dataloader) * batch_size), dtype=torch.long).to(device)\n",
    "    y_true = torch.zeros((len(dataloader) * batch_size), dtype=torch.long).to(device)\n",
    "    num_elements = 0\n",
    "    with torch.no_grad():\n",
    "        for batch, (X, y) in enumerate(tqdm(dataloader)):\n",
    "            X, y = X.to(device), y.to(device)\n",
    "            pred = model(X)\n",
    "            test_loss += loss_fn(pred, y).item()\n",
    "            pred = pred.argmax(1)\n",
    "            y_pred[batch * batch_size:batch * batch_size + pred.shape[-1]] = pred\n",
    "            y_true[batch * batch_size:batch * batch_size + y.shape[-1]] = y\n",
    "            num_elements += y.shape[-1]\n",
    "    test_loss /= len(dataloader)\n",
    "    y_pred = y_pred[:num_elements]\n",
    "    y_true = y_true[:num_elements]\n",
    "    f1_score = multiclass_f1_score(y_pred, y_true)\n",
    "    print(f\"Test Error:\\nF1: {f1_score:>8f}\\nAvg loss: {test_loss:>8f}\\n\")\n",
    "    return [f1_score.item(), test_loss]"
   ],
   "metadata": {
    "collapsed": false,
    "ExecuteTime": {
     "end_time": "2024-02-10T18:15:47.953689Z",
     "start_time": "2024-02-10T18:15:47.949120Z"
    }
   }
  },
  {
   "cell_type": "markdown",
   "source": [
    "Teach model"
   ],
   "metadata": {
    "collapsed": false
   }
  },
  {
   "cell_type": "code",
   "outputs": [],
   "source": [
    "loss_fn = nn.CrossEntropyLoss()  #(weight=weight)\n",
    "optimizer = torch.optim.Adam(model.parameters(), lr=3e-4)  #lr=1e-3\n",
    "# scheduler = ..."
   ],
   "metadata": {
    "collapsed": false,
    "ExecuteTime": {
     "end_time": "2024-02-10T18:15:47.954106Z",
     "start_time": "2024-02-10T18:15:47.951661Z"
    }
   },
   "execution_count": 15
  },
  {
   "cell_type": "code",
   "execution_count": 16,
   "outputs": [
    {
     "name": "stdout",
     "output_type": "stream",
     "text": [
      "Epoch 1\n",
      "-------------------------------\n"
     ]
    },
    {
     "name": "stderr",
     "output_type": "stream",
     "text": [
      "100%|██████████| 246/246 [02:12<00:00,  1.86it/s]\n"
     ]
    },
    {
     "name": "stdout",
     "output_type": "stream",
     "text": [
      "Train Error:\n",
      "F1: 0.876935\n",
      "Avg loss: 0.558112\n"
     ]
    },
    {
     "name": "stderr",
     "output_type": "stream",
     "text": [
      "100%|██████████| 82/82 [00:21<00:00,  3.76it/s]\n"
     ]
    },
    {
     "name": "stdout",
     "output_type": "stream",
     "text": [
      "Test Error:\n",
      "F1: 0.930455\n",
      "Avg loss: 0.273928\n",
      "\n",
      "-------------------------------\n",
      "\n",
      "Epoch 2\n",
      "-------------------------------\n"
     ]
    },
    {
     "name": "stderr",
     "output_type": "stream",
     "text": [
      "100%|██████████| 246/246 [02:11<00:00,  1.87it/s]\n"
     ]
    },
    {
     "name": "stdout",
     "output_type": "stream",
     "text": [
      "Train Error:\n",
      "F1: 0.979043\n",
      "Avg loss: 0.094808\n"
     ]
    },
    {
     "name": "stderr",
     "output_type": "stream",
     "text": [
      "100%|██████████| 82/82 [00:21<00:00,  3.77it/s]\n"
     ]
    },
    {
     "name": "stdout",
     "output_type": "stream",
     "text": [
      "Test Error:\n",
      "F1: 0.950707\n",
      "Avg loss: 0.215492\n",
      "\n",
      "-------------------------------\n",
      "\n",
      "Epoch 3\n",
      "-------------------------------\n"
     ]
    },
    {
     "name": "stderr",
     "output_type": "stream",
     "text": [
      "100%|██████████| 246/246 [02:12<00:00,  1.86it/s]\n"
     ]
    },
    {
     "name": "stdout",
     "output_type": "stream",
     "text": [
      "Train Error:\n",
      "F1: 0.994522\n",
      "Avg loss: 0.025858\n"
     ]
    },
    {
     "name": "stderr",
     "output_type": "stream",
     "text": [
      "100%|██████████| 82/82 [00:21<00:00,  3.81it/s]\n"
     ]
    },
    {
     "name": "stdout",
     "output_type": "stream",
     "text": [
      "Test Error:\n",
      "F1: 0.966374\n",
      "Avg loss: 0.144233\n",
      "\n",
      "-------------------------------\n",
      "\n",
      "Epoch 4\n",
      "-------------------------------\n"
     ]
    },
    {
     "name": "stderr",
     "output_type": "stream",
     "text": [
      "100%|██████████| 246/246 [02:12<00:00,  1.86it/s]\n"
     ]
    },
    {
     "name": "stdout",
     "output_type": "stream",
     "text": [
      "Train Error:\n",
      "F1: 0.996688\n",
      "Avg loss: 0.016838\n"
     ]
    },
    {
     "name": "stderr",
     "output_type": "stream",
     "text": [
      "100%|██████████| 82/82 [00:21<00:00,  3.74it/s]\n"
     ]
    },
    {
     "name": "stdout",
     "output_type": "stream",
     "text": [
      "Test Error:\n",
      "F1: 0.956248\n",
      "Avg loss: 0.181910\n",
      "\n",
      "-------------------------------\n",
      "\n",
      "Epoch 5\n",
      "-------------------------------\n"
     ]
    },
    {
     "name": "stderr",
     "output_type": "stream",
     "text": [
      "100%|██████████| 246/246 [02:11<00:00,  1.86it/s]\n"
     ]
    },
    {
     "name": "stdout",
     "output_type": "stream",
     "text": [
      "Train Error:\n",
      "F1: 0.992165\n",
      "Avg loss: 0.032872\n"
     ]
    },
    {
     "name": "stderr",
     "output_type": "stream",
     "text": [
      "100%|██████████| 82/82 [00:21<00:00,  3.73it/s]\n"
     ]
    },
    {
     "name": "stdout",
     "output_type": "stream",
     "text": [
      "Test Error:\n",
      "F1: 0.885747\n",
      "Avg loss: 0.477466\n",
      "\n",
      "-------------------------------\n",
      "\n",
      "Epoch 6\n",
      "-------------------------------\n"
     ]
    },
    {
     "name": "stderr",
     "output_type": "stream",
     "text": [
      "100%|██████████| 246/246 [02:12<00:00,  1.86it/s]\n"
     ]
    },
    {
     "name": "stdout",
     "output_type": "stream",
     "text": [
      "Train Error:\n",
      "F1: 0.987706\n",
      "Avg loss: 0.046417\n"
     ]
    },
    {
     "name": "stderr",
     "output_type": "stream",
     "text": [
      "100%|██████████| 82/82 [00:21<00:00,  3.75it/s]\n"
     ]
    },
    {
     "name": "stdout",
     "output_type": "stream",
     "text": [
      "Test Error:\n",
      "F1: 0.919755\n",
      "Avg loss: 0.299536\n",
      "\n",
      "-------------------------------\n",
      "\n",
      "Epoch 7\n",
      "-------------------------------\n"
     ]
    },
    {
     "name": "stderr",
     "output_type": "stream",
     "text": [
      "100%|██████████| 246/246 [02:11<00:00,  1.87it/s]\n"
     ]
    },
    {
     "name": "stdout",
     "output_type": "stream",
     "text": [
      "Train Error:\n",
      "F1: 0.995095\n",
      "Avg loss: 0.020800\n"
     ]
    },
    {
     "name": "stderr",
     "output_type": "stream",
     "text": [
      "100%|██████████| 82/82 [00:21<00:00,  3.75it/s]\n"
     ]
    },
    {
     "name": "stdout",
     "output_type": "stream",
     "text": [
      "Test Error:\n",
      "F1: 0.959305\n",
      "Avg loss: 0.169492\n",
      "\n",
      "-------------------------------\n",
      "\n",
      "Epoch 8\n",
      "-------------------------------\n"
     ]
    },
    {
     "name": "stderr",
     "output_type": "stream",
     "text": [
      "100%|██████████| 246/246 [02:11<00:00,  1.87it/s]\n"
     ]
    },
    {
     "name": "stdout",
     "output_type": "stream",
     "text": [
      "Train Error:\n",
      "F1: 0.995541\n",
      "Avg loss: 0.017472\n"
     ]
    },
    {
     "name": "stderr",
     "output_type": "stream",
     "text": [
      "100%|██████████| 82/82 [00:21<00:00,  3.75it/s]\n"
     ]
    },
    {
     "name": "stdout",
     "output_type": "stream",
     "text": [
      "Test Error:\n",
      "F1: 0.937142\n",
      "Avg loss: 0.262463\n",
      "\n",
      "-------------------------------\n",
      "\n",
      "Epoch 9\n",
      "-------------------------------\n"
     ]
    },
    {
     "name": "stderr",
     "output_type": "stream",
     "text": [
      "100%|██████████| 246/246 [02:11<00:00,  1.87it/s]\n"
     ]
    },
    {
     "name": "stdout",
     "output_type": "stream",
     "text": [
      "Train Error:\n",
      "F1: 0.994713\n",
      "Avg loss: 0.018050\n"
     ]
    },
    {
     "name": "stderr",
     "output_type": "stream",
     "text": [
      "100%|██████████| 82/82 [00:21<00:00,  3.73it/s]\n"
     ]
    },
    {
     "name": "stdout",
     "output_type": "stream",
     "text": [
      "Test Error:\n",
      "F1: 0.953573\n",
      "Avg loss: 0.197401\n",
      "\n",
      "-------------------------------\n",
      "\n",
      "Epoch 10\n",
      "-------------------------------\n"
     ]
    },
    {
     "name": "stderr",
     "output_type": "stream",
     "text": [
      "100%|██████████| 246/246 [02:12<00:00,  1.86it/s]\n"
     ]
    },
    {
     "name": "stdout",
     "output_type": "stream",
     "text": [
      "Train Error:\n",
      "F1: 0.994012\n",
      "Avg loss: 0.020691\n"
     ]
    },
    {
     "name": "stderr",
     "output_type": "stream",
     "text": [
      "100%|██████████| 82/82 [00:21<00:00,  3.73it/s]\n"
     ]
    },
    {
     "name": "stdout",
     "output_type": "stream",
     "text": [
      "Test Error:\n",
      "F1: 0.947841\n",
      "Avg loss: 0.214086\n",
      "\n",
      "-------------------------------\n",
      "\n",
      "Epoch 11\n",
      "-------------------------------\n"
     ]
    },
    {
     "name": "stderr",
     "output_type": "stream",
     "text": [
      "100%|██████████| 246/246 [02:09<00:00,  1.90it/s]\n"
     ]
    },
    {
     "name": "stdout",
     "output_type": "stream",
     "text": [
      "Train Error:\n",
      "F1: 0.994586\n",
      "Avg loss: 0.020332\n"
     ]
    },
    {
     "name": "stderr",
     "output_type": "stream",
     "text": [
      "100%|██████████| 82/82 [00:22<00:00,  3.73it/s]\n"
     ]
    },
    {
     "name": "stdout",
     "output_type": "stream",
     "text": [
      "Test Error:\n",
      "F1: 0.954910\n",
      "Avg loss: 0.195502\n",
      "\n",
      "-------------------------------\n",
      "\n",
      "Epoch 12\n",
      "-------------------------------\n"
     ]
    },
    {
     "name": "stderr",
     "output_type": "stream",
     "text": [
      "100%|██████████| 246/246 [02:11<00:00,  1.87it/s]\n"
     ]
    },
    {
     "name": "stdout",
     "output_type": "stream",
     "text": [
      "Train Error:\n",
      "F1: 0.996497\n",
      "Avg loss: 0.012745\n"
     ]
    },
    {
     "name": "stderr",
     "output_type": "stream",
     "text": [
      "100%|██████████| 82/82 [00:21<00:00,  3.81it/s]\n"
     ]
    },
    {
     "name": "stdout",
     "output_type": "stream",
     "text": [
      "Test Error:\n",
      "F1: 0.964272\n",
      "Avg loss: 0.158095\n",
      "\n",
      "-------------------------------\n",
      "\n",
      "Epoch 13\n",
      "-------------------------------\n"
     ]
    },
    {
     "name": "stderr",
     "output_type": "stream",
     "text": [
      "100%|██████████| 246/246 [02:11<00:00,  1.88it/s]\n"
     ]
    },
    {
     "name": "stdout",
     "output_type": "stream",
     "text": [
      "Train Error:\n",
      "F1: 0.999236\n",
      "Avg loss: 0.003495\n"
     ]
    },
    {
     "name": "stderr",
     "output_type": "stream",
     "text": [
      "100%|██████████| 82/82 [00:22<00:00,  3.70it/s]\n"
     ]
    },
    {
     "name": "stdout",
     "output_type": "stream",
     "text": [
      "Test Error:\n",
      "F1: 0.968666\n",
      "Avg loss: 0.143405\n",
      "\n",
      "-------------------------------\n",
      "\n",
      "Epoch 14\n",
      "-------------------------------\n"
     ]
    },
    {
     "name": "stderr",
     "output_type": "stream",
     "text": [
      "100%|██████████| 246/246 [02:10<00:00,  1.88it/s]\n"
     ]
    },
    {
     "name": "stdout",
     "output_type": "stream",
     "text": [
      "Train Error:\n",
      "F1: 0.999809\n",
      "Avg loss: 0.001171\n"
     ]
    },
    {
     "name": "stderr",
     "output_type": "stream",
     "text": [
      "100%|██████████| 82/82 [00:21<00:00,  3.76it/s]\n"
     ]
    },
    {
     "name": "stdout",
     "output_type": "stream",
     "text": [
      "Test Error:\n",
      "F1: 0.970195\n",
      "Avg loss: 0.134806\n",
      "\n",
      "-------------------------------\n",
      "\n",
      "Epoch 15\n",
      "-------------------------------\n"
     ]
    },
    {
     "name": "stderr",
     "output_type": "stream",
     "text": [
      "100%|██████████| 246/246 [02:11<00:00,  1.87it/s]\n"
     ]
    },
    {
     "name": "stdout",
     "output_type": "stream",
     "text": [
      "Train Error:\n",
      "F1: 0.999809\n",
      "Avg loss: 0.000659\n"
     ]
    },
    {
     "name": "stderr",
     "output_type": "stream",
     "text": [
      "100%|██████████| 82/82 [00:21<00:00,  3.74it/s]\n"
     ]
    },
    {
     "name": "stdout",
     "output_type": "stream",
     "text": [
      "Test Error:\n",
      "F1: 0.971914\n",
      "Avg loss: 0.130512\n",
      "\n",
      "-------------------------------\n",
      "\n",
      "Epoch 16\n",
      "-------------------------------\n"
     ]
    },
    {
     "name": "stderr",
     "output_type": "stream",
     "text": [
      "100%|██████████| 246/246 [02:11<00:00,  1.87it/s]\n"
     ]
    },
    {
     "name": "stdout",
     "output_type": "stream",
     "text": [
      "Train Error:\n",
      "F1: 0.999809\n",
      "Avg loss: 0.000472\n"
     ]
    },
    {
     "name": "stderr",
     "output_type": "stream",
     "text": [
      "100%|██████████| 82/82 [00:21<00:00,  3.75it/s]\n"
     ]
    },
    {
     "name": "stdout",
     "output_type": "stream",
     "text": [
      "Test Error:\n",
      "F1: 0.972105\n",
      "Avg loss: 0.129694\n",
      "\n",
      "-------------------------------\n",
      "\n",
      "Epoch 17\n",
      "-------------------------------\n"
     ]
    },
    {
     "name": "stderr",
     "output_type": "stream",
     "text": [
      "100%|██████████| 246/246 [02:11<00:00,  1.86it/s]\n"
     ]
    },
    {
     "name": "stdout",
     "output_type": "stream",
     "text": [
      "Train Error:\n",
      "F1: 0.999809\n",
      "Avg loss: 0.000391\n"
     ]
    },
    {
     "name": "stderr",
     "output_type": "stream",
     "text": [
      "100%|██████████| 82/82 [00:21<00:00,  3.75it/s]\n"
     ]
    },
    {
     "name": "stdout",
     "output_type": "stream",
     "text": [
      "Test Error:\n",
      "F1: 0.972870\n",
      "Avg loss: 0.128890\n",
      "\n",
      "-------------------------------\n",
      "\n",
      "Epoch 18\n",
      "-------------------------------\n"
     ]
    },
    {
     "name": "stderr",
     "output_type": "stream",
     "text": [
      "100%|██████████| 246/246 [02:10<00:00,  1.89it/s]\n"
     ]
    },
    {
     "name": "stdout",
     "output_type": "stream",
     "text": [
      "Train Error:\n",
      "F1: 0.999809\n",
      "Avg loss: 0.000374\n"
     ]
    },
    {
     "name": "stderr",
     "output_type": "stream",
     "text": [
      "100%|██████████| 82/82 [00:22<00:00,  3.67it/s]\n"
     ]
    },
    {
     "name": "stdout",
     "output_type": "stream",
     "text": [
      "Test Error:\n",
      "F1: 0.972488\n",
      "Avg loss: 0.127470\n",
      "\n",
      "-------------------------------\n",
      "\n",
      "Epoch 19\n",
      "-------------------------------\n"
     ]
    },
    {
     "name": "stderr",
     "output_type": "stream",
     "text": [
      "100%|██████████| 246/246 [02:13<00:00,  1.84it/s]\n"
     ]
    },
    {
     "name": "stdout",
     "output_type": "stream",
     "text": [
      "Train Error:\n",
      "F1: 0.999809\n",
      "Avg loss: 0.000311\n"
     ]
    },
    {
     "name": "stderr",
     "output_type": "stream",
     "text": [
      "100%|██████████| 82/82 [00:22<00:00,  3.71it/s]\n"
     ]
    },
    {
     "name": "stdout",
     "output_type": "stream",
     "text": [
      "Test Error:\n",
      "F1: 0.974016\n",
      "Avg loss: 0.127681\n",
      "\n",
      "-------------------------------\n",
      "\n",
      "Epoch 20\n",
      "-------------------------------\n"
     ]
    },
    {
     "name": "stderr",
     "output_type": "stream",
     "text": [
      "100%|██████████| 246/246 [02:09<00:00,  1.90it/s]\n"
     ]
    },
    {
     "name": "stdout",
     "output_type": "stream",
     "text": [
      "Train Error:\n",
      "F1: 0.999809\n",
      "Avg loss: 0.000296\n"
     ]
    },
    {
     "name": "stderr",
     "output_type": "stream",
     "text": [
      "100%|██████████| 82/82 [00:22<00:00,  3.67it/s]"
     ]
    },
    {
     "name": "stdout",
     "output_type": "stream",
     "text": [
      "Test Error:\n",
      "F1: 0.973443\n",
      "Avg loss: 0.126354\n",
      "\n",
      "-------------------------------\n",
      "\n",
      "Done!\n"
     ]
    },
    {
     "name": "stderr",
     "output_type": "stream",
     "text": [
      "\n"
     ]
    },
    {
     "data": {
      "text/plain": "<Axes: >"
     },
     "execution_count": 16,
     "metadata": {},
     "output_type": "execute_result"
    },
    {
     "data": {
      "text/plain": "<Figure size 640x480 with 2 Axes>",
      "image/png": "[encoded data removed]"
     },
     "metadata": {},
     "output_type": "display_data"
    }
   ],
   "source": [
    "epochs = 20\n",
    "metrics = [0] * epochs\n",
    "best_loss = float('+inf')\n",
    "for t in range(epochs):\n",
    "    print(f\"Epoch {t + 1}\\n-------------------------------\")\n",
    "    metrics[t] = train(train_dataloader, model, loss_fn, optimizer) + test(test_dataloader, model, loss_fn)\n",
    "    torch.save(model.state_dict(), 'model.pth')\n",
    "    if metrics[t][-1] < best_loss:\n",
    "        best_loss = metrics[t][-1]\n",
    "        torch.save(model.state_dict(), 'best_model.pth')\n",
    "    # scheduler.step()\n",
    "print(\"Done!\")\n",
    "metrics = np.array(metrics)\n",
    "fig, ax = plt.subplots(1, 2)\n",
    "sns.lineplot(data=pd.DataFrame(metrics[:, ::2], columns=['train f1', 'test f1']), ax=ax[0])\n",
    "sns.lineplot(data=pd.DataFrame(metrics[:, 1::2], columns=['train loss', 'test loss']), ax=ax[1])\n",
    "print(f'Best loss: {best_loss}')"
   ],
   "metadata": {
    "collapsed": false,
    "ExecuteTime": {
     "end_time": "2024-02-10T19:07:00.799263Z",
     "start_time": "2024-02-10T18:15:47.955390Z"
    }
   }
  },
  {
   "cell_type": "code",
   "outputs": [
    {
     "data": {
      "text/plain": "<All keys matched successfully>"
     },
     "execution_count": 17,
     "metadata": {},
     "output_type": "execute_result"
    }
   ],
   "source": [
    "model.load_state_dict(torch.load('best_model.pth'))"
   ],
   "metadata": {
    "collapsed": false,
    "ExecuteTime": {
     "end_time": "2024-02-10T19:07:00.909789Z",
     "start_time": "2024-02-10T19:07:00.803213Z"
    }
   },
   "execution_count": 17
  },
  {
   "cell_type": "markdown",
   "source": [
    "Get names of classes"
   ],
   "metadata": {
    "collapsed": false
   }
  },
  {
   "cell_type": "code",
   "outputs": [
    {
     "data": {
      "text/plain": "array(['abraham_grampa_simpson', 'agnes_skinner',\n       'apu_nahasapeemapetilon', 'barney_gumble', 'bart_simpson',\n       'carl_carlson', 'charles_montgomery_burns', 'chief_wiggum',\n       'cletus_spuckler', 'comic_book_guy', 'disco_stu', 'edna_krabappel',\n       'fat_tony', 'gil', 'groundskeeper_willie', 'homer_simpson',\n       'kent_brockman', 'krusty_the_clown', 'lenny_leonard',\n       'lionel_hutz', 'lisa_simpson', 'maggie_simpson', 'marge_simpson',\n       'martin_prince', 'mayor_quimby', 'milhouse_van_houten',\n       'miss_hoover', 'moe_szyslak', 'ned_flanders', 'nelson_muntz',\n       'otto_mann', 'patty_bouvier', 'principal_skinner',\n       'professor_john_frink', 'rainier_wolfcastle', 'ralph_wiggum',\n       'selma_bouvier', 'sideshow_bob', 'sideshow_mel', 'snake_jailbird',\n       'troy_mcclure', 'waylon_smithers'], dtype='<U24')"
     },
     "execution_count": 18,
     "metadata": {},
     "output_type": "execute_result"
    }
   ],
   "source": [
    "path = 'train/simpsons_dataset/'\n",
    "classes = np.array(sorted([i for i in os.listdir(path) if os.path.isdir(os.path.join(path, i))]))\n",
    "classes"
   ],
   "metadata": {
    "collapsed": false,
    "ExecuteTime": {
     "end_time": "2024-02-10T19:07:00.910394Z",
     "start_time": "2024-02-10T19:07:00.906563Z"
    }
   },
   "execution_count": 18
  },
  {
   "cell_type": "markdown",
   "source": [
    "Predict "
   ],
   "metadata": {
    "collapsed": false
   }
  },
  {
   "cell_type": "code",
   "outputs": [
    {
     "data": {
      "text/plain": "['nelson_muntz',\n 'bart_simpson',\n 'ned_flanders',\n 'chief_wiggum',\n 'apu_nahasapeemapetilon',\n 'kent_brockman',\n 'edna_krabappel',\n 'chief_wiggum',\n 'lisa_simpson',\n 'kent_brockman',\n 'lenny_leonard',\n 'marge_simpson',\n 'kent_brockman',\n 'ned_flanders',\n 'moe_szyslak',\n 'comic_book_guy',\n 'abraham_grampa_simpson',\n 'edna_krabappel',\n 'kent_brockman',\n 'lisa_simpson',\n 'marge_simpson',\n 'nelson_muntz',\n 'comic_book_guy',\n 'mayor_quimby',\n 'homer_simpson',\n 'apu_nahasapeemapetilon',\n 'krusty_the_clown',\n 'krusty_the_clown',\n 'ned_flanders',\n 'edna_krabappel',\n 'apu_nahasapeemapetilon',\n 'chief_wiggum',\n 'apu_nahasapeemapetilon',\n 'ned_flanders',\n 'marge_simpson',\n 'abraham_grampa_simpson',\n 'homer_simpson',\n 'sideshow_bob',\n 'lisa_simpson',\n 'charles_montgomery_burns',\n 'chief_wiggum',\n 'kent_brockman',\n 'abraham_grampa_simpson',\n 'milhouse_van_houten',\n 'lenny_leonard',\n 'abraham_grampa_simpson',\n 'nelson_muntz',\n 'comic_book_guy',\n 'chief_wiggum',\n 'nelson_muntz',\n 'mayor_quimby',\n 'charles_montgomery_burns',\n 'apu_nahasapeemapetilon',\n 'mayor_quimby',\n 'bart_simpson',\n 'edna_krabappel',\n 'edna_krabappel',\n 'charles_montgomery_burns',\n 'ned_flanders',\n 'chief_wiggum',\n 'homer_simpson',\n 'charles_montgomery_burns',\n 'marge_simpson',\n 'apu_nahasapeemapetilon',\n 'lenny_leonard',\n 'lenny_leonard',\n 'comic_book_guy',\n 'kent_brockman',\n 'mayor_quimby',\n 'sideshow_bob',\n 'ned_flanders',\n 'ned_flanders',\n 'comic_book_guy',\n 'charles_montgomery_burns',\n 'edna_krabappel',\n 'bart_simpson',\n 'kent_brockman',\n 'ned_flanders',\n 'krusty_the_clown',\n 'comic_book_guy',\n 'chief_wiggum',\n 'mayor_quimby',\n 'ned_flanders',\n 'krusty_the_clown',\n 'sideshow_bob',\n 'ned_flanders',\n 'chief_wiggum',\n 'nelson_muntz',\n 'abraham_grampa_simpson',\n 'krusty_the_clown',\n 'homer_simpson',\n 'krusty_the_clown',\n 'lisa_simpson',\n 'krusty_the_clown',\n 'mayor_quimby',\n 'lisa_simpson',\n 'moe_szyslak',\n 'nelson_muntz',\n 'marge_simpson',\n 'bart_simpson',\n 'chief_wiggum',\n 'milhouse_van_houten',\n 'chief_wiggum',\n 'kent_brockman',\n 'marge_simpson',\n 'lisa_simpson',\n 'apu_nahasapeemapetilon',\n 'charles_montgomery_burns',\n 'marge_simpson',\n 'apu_nahasapeemapetilon',\n 'marge_simpson',\n 'apu_nahasapeemapetilon',\n 'mayor_quimby',\n 'marge_simpson',\n 'edna_krabappel',\n 'homer_simpson',\n 'homer_simpson',\n 'bart_simpson',\n 'principal_skinner',\n 'edna_krabappel',\n 'milhouse_van_houten',\n 'moe_szyslak',\n 'lenny_leonard',\n 'moe_szyslak',\n 'principal_skinner',\n 'homer_simpson',\n 'lenny_leonard',\n 'lisa_simpson',\n 'sideshow_bob',\n 'chief_wiggum',\n 'apu_nahasapeemapetilon',\n 'mayor_quimby',\n 'charles_montgomery_burns',\n 'mayor_quimby',\n 'kent_brockman',\n 'moe_szyslak',\n 'homer_simpson',\n 'lisa_simpson',\n 'milhouse_van_houten',\n 'apu_nahasapeemapetilon',\n 'mayor_quimby',\n 'charles_montgomery_burns',\n 'charles_montgomery_burns',\n 'bart_simpson',\n 'kent_brockman',\n 'lisa_simpson',\n 'chief_wiggum',\n 'moe_szyslak',\n 'sideshow_bob',\n 'lisa_simpson',\n 'edna_krabappel',\n 'krusty_the_clown',\n 'kent_brockman',\n 'homer_simpson',\n 'charles_montgomery_burns',\n 'lenny_leonard',\n 'nelson_muntz',\n 'chief_wiggum',\n 'nelson_muntz',\n 'mayor_quimby',\n 'homer_simpson',\n 'nelson_muntz',\n 'marge_simpson',\n 'comic_book_guy',\n 'homer_simpson',\n 'charles_montgomery_burns',\n 'lenny_leonard',\n 'marge_simpson',\n 'apu_nahasapeemapetilon',\n 'nelson_muntz',\n 'mayor_quimby',\n 'bart_simpson',\n 'apu_nahasapeemapetilon',\n 'homer_simpson',\n 'lenny_leonard',\n 'milhouse_van_houten',\n 'krusty_the_clown',\n 'abraham_grampa_simpson',\n 'lisa_simpson',\n 'abraham_grampa_simpson',\n 'chief_wiggum',\n 'homer_simpson',\n 'homer_simpson',\n 'krusty_the_clown',\n 'lenny_leonard',\n 'lenny_leonard',\n 'kent_brockman',\n 'charles_montgomery_burns',\n 'sideshow_bob',\n 'chief_wiggum',\n 'edna_krabappel',\n 'kent_brockman',\n 'apu_nahasapeemapetilon',\n 'nelson_muntz',\n 'bart_simpson',\n 'charles_montgomery_burns',\n 'mayor_quimby',\n 'mayor_quimby',\n 'chief_wiggum',\n 'bart_simpson',\n 'abraham_grampa_simpson',\n 'homer_simpson',\n 'nelson_muntz',\n 'abraham_grampa_simpson',\n 'marge_simpson',\n 'chief_wiggum',\n 'lenny_leonard',\n 'ned_flanders',\n 'moe_szyslak',\n 'marge_simpson',\n 'marge_simpson',\n 'kent_brockman',\n 'moe_szyslak',\n 'charles_montgomery_burns',\n 'comic_book_guy',\n 'apu_nahasapeemapetilon',\n 'bart_simpson',\n 'edna_krabappel',\n 'principal_skinner',\n 'lenny_leonard',\n 'comic_book_guy',\n 'moe_szyslak',\n 'krusty_the_clown',\n 'nelson_muntz',\n 'krusty_the_clown',\n 'milhouse_van_houten',\n 'marge_simpson',\n 'bart_simpson',\n 'krusty_the_clown',\n 'edna_krabappel',\n 'nelson_muntz',\n 'marge_simpson',\n 'apu_nahasapeemapetilon',\n 'sideshow_bob',\n 'homer_simpson',\n 'comic_book_guy',\n 'edna_krabappel',\n 'lisa_simpson',\n 'kent_brockman',\n 'milhouse_van_houten',\n 'apu_nahasapeemapetilon',\n 'moe_szyslak',\n 'apu_nahasapeemapetilon',\n 'edna_krabappel',\n 'krusty_the_clown',\n 'comic_book_guy',\n 'charles_montgomery_burns',\n 'nelson_muntz',\n 'charles_montgomery_burns',\n 'bart_simpson',\n 'nelson_muntz',\n 'nelson_muntz',\n 'moe_szyslak',\n 'moe_szyslak',\n 'charles_montgomery_burns',\n 'edna_krabappel',\n 'ned_flanders',\n 'marge_simpson',\n 'apu_nahasapeemapetilon',\n 'milhouse_van_houten',\n 'moe_szyslak',\n 'moe_szyslak',\n 'comic_book_guy',\n 'principal_skinner',\n 'marge_simpson',\n 'krusty_the_clown',\n 'ned_flanders',\n 'principal_skinner',\n 'edna_krabappel',\n 'marge_simpson',\n 'bart_simpson',\n 'lisa_simpson',\n 'kent_brockman',\n 'mayor_quimby',\n 'comic_book_guy',\n 'lenny_leonard',\n 'chief_wiggum',\n 'charles_montgomery_burns',\n 'sideshow_bob',\n 'sideshow_bob',\n 'principal_skinner',\n 'homer_simpson',\n 'krusty_the_clown',\n 'homer_simpson',\n 'abraham_grampa_simpson',\n 'principal_skinner',\n 'homer_simpson',\n 'edna_krabappel',\n 'charles_montgomery_burns',\n 'krusty_the_clown',\n 'chief_wiggum',\n 'nelson_muntz',\n 'lenny_leonard',\n 'ned_flanders',\n 'chief_wiggum',\n 'sideshow_bob',\n 'lisa_simpson',\n 'lenny_leonard',\n 'sideshow_bob',\n 'sideshow_bob',\n 'homer_simpson',\n 'moe_szyslak',\n 'lenny_leonard',\n 'nelson_muntz',\n 'lenny_leonard',\n 'lenny_leonard',\n 'kent_brockman',\n 'abraham_grampa_simpson',\n 'nelson_muntz',\n 'ned_flanders',\n 'kent_brockman',\n 'bart_simpson',\n 'moe_szyslak',\n 'principal_skinner',\n 'sideshow_bob',\n 'lisa_simpson',\n 'principal_skinner',\n 'sideshow_bob',\n 'bart_simpson',\n 'lisa_simpson',\n 'bart_simpson',\n 'marge_simpson',\n 'principal_skinner',\n 'moe_szyslak',\n 'lisa_simpson',\n 'apu_nahasapeemapetilon',\n 'principal_skinner',\n 'abraham_grampa_simpson',\n 'lenny_leonard',\n 'milhouse_van_houten',\n 'lenny_leonard',\n 'edna_krabappel',\n 'mayor_quimby',\n 'bart_simpson',\n 'lisa_simpson',\n 'moe_szyslak',\n 'abraham_grampa_simpson',\n 'chief_wiggum',\n 'krusty_the_clown',\n 'milhouse_van_houten',\n 'mayor_quimby',\n 'principal_skinner',\n 'edna_krabappel',\n 'comic_book_guy',\n 'comic_book_guy',\n 'kent_brockman',\n 'nelson_muntz',\n 'principal_skinner',\n 'kent_brockman',\n 'krusty_the_clown',\n 'nelson_muntz',\n 'milhouse_van_houten',\n 'sideshow_bob',\n 'mayor_quimby',\n 'lenny_leonard',\n 'bart_simpson',\n 'lenny_leonard',\n 'comic_book_guy',\n 'principal_skinner',\n 'bart_simpson',\n 'milhouse_van_houten',\n 'lenny_leonard',\n 'edna_krabappel',\n 'abraham_grampa_simpson',\n 'marge_simpson',\n 'mayor_quimby',\n 'marge_simpson',\n 'kent_brockman',\n 'mayor_quimby',\n 'homer_simpson',\n 'krusty_the_clown',\n 'krusty_the_clown',\n 'milhouse_van_houten',\n 'lisa_simpson',\n 'ned_flanders',\n 'lisa_simpson',\n 'principal_skinner',\n 'krusty_the_clown',\n 'lenny_leonard',\n 'edna_krabappel',\n 'sideshow_bob',\n 'marge_simpson',\n 'comic_book_guy',\n 'apu_nahasapeemapetilon',\n 'chief_wiggum',\n 'lisa_simpson',\n 'milhouse_van_houten',\n 'comic_book_guy',\n 'mayor_quimby',\n 'sideshow_bob',\n 'edna_krabappel',\n 'sideshow_bob',\n 'abraham_grampa_simpson',\n 'edna_krabappel',\n 'comic_book_guy',\n 'moe_szyslak',\n 'ned_flanders',\n 'moe_szyslak',\n 'ned_flanders',\n 'mayor_quimby',\n 'ned_flanders',\n 'krusty_the_clown',\n 'edna_krabappel',\n 'principal_skinner',\n 'nelson_muntz',\n 'principal_skinner',\n 'edna_krabappel',\n 'lenny_leonard',\n 'milhouse_van_houten',\n 'kent_brockman',\n 'sideshow_bob',\n 'principal_skinner',\n 'principal_skinner',\n 'principal_skinner',\n 'homer_simpson',\n 'homer_simpson',\n 'sideshow_bob',\n 'milhouse_van_houten',\n 'bart_simpson',\n 'moe_szyslak',\n 'lisa_simpson',\n 'charles_montgomery_burns',\n 'apu_nahasapeemapetilon',\n 'mayor_quimby',\n 'milhouse_van_houten',\n 'charles_montgomery_burns',\n 'comic_book_guy',\n 'abraham_grampa_simpson',\n 'marge_simpson',\n 'principal_skinner',\n 'charles_montgomery_burns',\n 'krusty_the_clown',\n 'edna_krabappel',\n 'abraham_grampa_simpson',\n 'milhouse_van_houten',\n 'lisa_simpson',\n 'apu_nahasapeemapetilon',\n 'lisa_simpson',\n 'principal_skinner',\n 'kent_brockman',\n 'nelson_muntz',\n 'comic_book_guy',\n 'milhouse_van_houten',\n 'charles_montgomery_burns',\n 'comic_book_guy',\n 'principal_skinner',\n 'lisa_simpson',\n 'abraham_grampa_simpson',\n 'edna_krabappel',\n 'ned_flanders',\n 'krusty_the_clown',\n 'bart_simpson',\n 'lisa_simpson',\n 'lenny_leonard',\n 'homer_simpson',\n 'apu_nahasapeemapetilon',\n 'comic_book_guy',\n 'comic_book_guy',\n 'bart_simpson',\n 'marge_simpson',\n 'charles_montgomery_burns',\n 'bart_simpson',\n 'chief_wiggum',\n 'lisa_simpson',\n 'mayor_quimby',\n 'krusty_the_clown',\n 'krusty_the_clown',\n 'milhouse_van_houten',\n 'milhouse_van_houten',\n 'kent_brockman',\n 'edna_krabappel',\n 'lisa_simpson',\n 'principal_skinner',\n 'bart_simpson',\n 'abraham_grampa_simpson',\n 'milhouse_van_houten',\n 'chief_wiggum',\n 'apu_nahasapeemapetilon',\n 'charles_montgomery_burns',\n 'krusty_the_clown',\n 'ned_flanders',\n 'comic_book_guy',\n 'homer_simpson',\n 'bart_simpson',\n 'abraham_grampa_simpson',\n 'lenny_leonard',\n 'ned_flanders',\n 'chief_wiggum',\n 'lenny_leonard',\n 'moe_szyslak',\n 'milhouse_van_houten',\n 'lisa_simpson',\n 'homer_simpson',\n 'nelson_muntz',\n 'abraham_grampa_simpson',\n 'principal_skinner',\n 'nelson_muntz',\n 'kent_brockman',\n 'krusty_the_clown',\n 'homer_simpson',\n 'marge_simpson',\n 'sideshow_bob',\n 'ned_flanders',\n 'lenny_leonard',\n 'milhouse_van_houten',\n 'krusty_the_clown',\n 'apu_nahasapeemapetilon',\n 'mayor_quimby',\n 'chief_wiggum',\n 'bart_simpson',\n 'marge_simpson',\n 'milhouse_van_houten',\n 'nelson_muntz',\n 'mayor_quimby',\n 'krusty_the_clown',\n 'kent_brockman',\n 'moe_szyslak',\n 'apu_nahasapeemapetilon',\n 'mayor_quimby',\n 'sideshow_bob',\n 'mayor_quimby',\n 'principal_skinner',\n 'mayor_quimby',\n 'lisa_simpson',\n 'apu_nahasapeemapetilon',\n 'nelson_muntz',\n 'abraham_grampa_simpson',\n 'ned_flanders',\n 'moe_szyslak',\n 'abraham_grampa_simpson',\n 'kent_brockman',\n 'abraham_grampa_simpson',\n 'moe_szyslak',\n 'comic_book_guy',\n 'kent_brockman',\n 'krusty_the_clown',\n 'chief_wiggum',\n 'homer_simpson',\n 'lisa_simpson',\n 'lenny_leonard',\n 'apu_nahasapeemapetilon',\n 'comic_book_guy',\n 'apu_nahasapeemapetilon',\n 'abraham_grampa_simpson',\n 'nelson_muntz',\n 'bart_simpson',\n 'moe_szyslak',\n 'chief_wiggum',\n 'ned_flanders',\n 'principal_skinner',\n 'kent_brockman',\n 'ned_flanders',\n 'charles_montgomery_burns',\n 'comic_book_guy',\n 'krusty_the_clown',\n 'bart_simpson',\n 'krusty_the_clown',\n 'bart_simpson',\n 'chief_wiggum',\n 'apu_nahasapeemapetilon',\n 'moe_szyslak',\n 'homer_simpson',\n 'principal_skinner',\n 'comic_book_guy',\n 'abraham_grampa_simpson',\n 'homer_simpson',\n 'apu_nahasapeemapetilon',\n 'bart_simpson',\n 'chief_wiggum',\n 'chief_wiggum',\n 'homer_simpson',\n 'marge_simpson',\n 'abraham_grampa_simpson',\n 'mayor_quimby',\n 'lisa_simpson',\n 'charles_montgomery_burns',\n 'nelson_muntz',\n 'ned_flanders',\n 'sideshow_bob',\n 'chief_wiggum',\n 'krusty_the_clown',\n 'bart_simpson',\n 'marge_simpson',\n 'ned_flanders',\n 'mayor_quimby',\n 'mayor_quimby',\n 'nelson_muntz',\n 'abraham_grampa_simpson',\n 'ned_flanders',\n 'lenny_leonard',\n 'abraham_grampa_simpson',\n 'bart_simpson',\n 'mayor_quimby',\n 'lenny_leonard',\n 'abraham_grampa_simpson',\n 'ned_flanders',\n 'sideshow_bob',\n 'homer_simpson',\n 'homer_simpson',\n 'lisa_simpson',\n 'homer_simpson',\n 'edna_krabappel',\n 'ned_flanders',\n 'nelson_muntz',\n 'moe_szyslak',\n 'chief_wiggum',\n 'apu_nahasapeemapetilon',\n 'sideshow_bob',\n 'chief_wiggum',\n 'marge_simpson',\n 'krusty_the_clown',\n 'marge_simpson',\n 'abraham_grampa_simpson',\n 'sideshow_bob',\n 'lenny_leonard',\n 'lenny_leonard',\n 'charles_montgomery_burns',\n 'kent_brockman',\n 'principal_skinner',\n 'ned_flanders',\n 'lisa_simpson',\n 'lenny_leonard',\n 'charles_montgomery_burns',\n 'principal_skinner',\n 'nelson_muntz',\n 'edna_krabappel',\n 'comic_book_guy',\n 'chief_wiggum',\n 'homer_simpson',\n 'edna_krabappel',\n 'sideshow_bob',\n 'moe_szyslak',\n 'comic_book_guy',\n 'moe_szyslak',\n 'milhouse_van_houten',\n 'charles_montgomery_burns',\n 'kent_brockman',\n 'milhouse_van_houten',\n 'homer_simpson',\n 'nelson_muntz',\n 'charles_montgomery_burns',\n 'moe_szyslak',\n 'nelson_muntz',\n 'ned_flanders',\n 'nelson_muntz',\n 'mayor_quimby',\n 'kent_brockman',\n 'apu_nahasapeemapetilon',\n 'homer_simpson',\n 'sideshow_bob',\n 'homer_simpson',\n 'nelson_muntz',\n 'lenny_leonard',\n 'kent_brockman',\n 'moe_szyslak',\n 'bart_simpson',\n 'bart_simpson',\n 'kent_brockman',\n 'nelson_muntz',\n 'charles_montgomery_burns',\n 'milhouse_van_houten',\n 'milhouse_van_houten',\n 'principal_skinner',\n 'kent_brockman',\n 'krusty_the_clown',\n 'milhouse_van_houten',\n 'bart_simpson',\n 'apu_nahasapeemapetilon',\n 'abraham_grampa_simpson',\n 'abraham_grampa_simpson',\n 'kent_brockman',\n 'apu_nahasapeemapetilon',\n 'comic_book_guy',\n 'mayor_quimby',\n 'moe_szyslak',\n 'kent_brockman',\n 'milhouse_van_houten',\n 'apu_nahasapeemapetilon',\n 'marge_simpson',\n 'lisa_simpson',\n 'moe_szyslak',\n 'lenny_leonard',\n 'lenny_leonard',\n 'milhouse_van_houten',\n 'charles_montgomery_burns',\n 'edna_krabappel',\n 'mayor_quimby',\n 'moe_szyslak',\n 'apu_nahasapeemapetilon',\n 'principal_skinner',\n 'kent_brockman',\n 'lenny_leonard',\n 'edna_krabappel',\n 'mayor_quimby',\n 'homer_simpson',\n 'chief_wiggum',\n 'krusty_the_clown',\n 'lenny_leonard',\n 'abraham_grampa_simpson',\n 'charles_montgomery_burns',\n 'bart_simpson',\n 'kent_brockman',\n 'apu_nahasapeemapetilon',\n 'apu_nahasapeemapetilon',\n 'sideshow_bob',\n 'edna_krabappel',\n 'charles_montgomery_burns',\n 'comic_book_guy',\n 'sideshow_bob',\n 'comic_book_guy',\n 'chief_wiggum',\n 'bart_simpson',\n 'abraham_grampa_simpson',\n 'abraham_grampa_simpson',\n 'mayor_quimby',\n 'edna_krabappel',\n 'edna_krabappel',\n 'abraham_grampa_simpson',\n 'lenny_leonard',\n 'lisa_simpson',\n 'milhouse_van_houten',\n 'mayor_quimby',\n 'apu_nahasapeemapetilon',\n 'krusty_the_clown',\n 'mayor_quimby',\n 'sideshow_bob',\n 'sideshow_bob',\n 'principal_skinner',\n 'chief_wiggum',\n 'charles_montgomery_burns',\n 'comic_book_guy',\n 'chief_wiggum',\n 'krusty_the_clown',\n 'marge_simpson',\n 'ned_flanders',\n 'principal_skinner',\n 'kent_brockman',\n 'moe_szyslak',\n 'milhouse_van_houten',\n 'chief_wiggum',\n 'ned_flanders',\n 'bart_simpson',\n 'bart_simpson',\n 'marge_simpson',\n 'moe_szyslak',\n 'edna_krabappel',\n 'abraham_grampa_simpson',\n 'bart_simpson',\n 'comic_book_guy',\n 'abraham_grampa_simpson',\n 'lisa_simpson',\n 'milhouse_van_houten',\n 'nelson_muntz',\n 'kent_brockman',\n 'principal_skinner',\n 'kent_brockman',\n 'charles_montgomery_burns',\n 'milhouse_van_houten',\n 'principal_skinner',\n 'bart_simpson',\n 'lenny_leonard',\n 'chief_wiggum',\n 'milhouse_van_houten',\n 'ned_flanders',\n 'principal_skinner',\n 'kent_brockman',\n 'edna_krabappel',\n 'mayor_quimby',\n 'comic_book_guy',\n 'charles_montgomery_burns',\n 'chief_wiggum',\n 'homer_simpson',\n 'sideshow_bob',\n 'ned_flanders',\n 'nelson_muntz',\n 'moe_szyslak',\n 'principal_skinner',\n 'sideshow_bob',\n 'principal_skinner',\n 'milhouse_van_houten',\n 'abraham_grampa_simpson',\n 'homer_simpson',\n 'chief_wiggum',\n 'milhouse_van_houten',\n 'edna_krabappel',\n 'moe_szyslak',\n 'milhouse_van_houten',\n 'moe_szyslak',\n 'principal_skinner',\n 'edna_krabappel',\n 'principal_skinner',\n 'lisa_simpson',\n 'comic_book_guy',\n 'apu_nahasapeemapetilon',\n 'edna_krabappel',\n 'kent_brockman',\n 'principal_skinner',\n 'marge_simpson',\n 'apu_nahasapeemapetilon',\n 'homer_simpson',\n 'milhouse_van_houten',\n 'bart_simpson',\n 'edna_krabappel',\n 'moe_szyslak',\n 'marge_simpson',\n 'ned_flanders',\n 'homer_simpson',\n 'comic_book_guy',\n 'apu_nahasapeemapetilon',\n 'comic_book_guy',\n 'homer_simpson',\n 'sideshow_bob',\n 'bart_simpson',\n 'abraham_grampa_simpson',\n 'chief_wiggum',\n 'nelson_muntz',\n 'charles_montgomery_burns',\n 'edna_krabappel',\n 'abraham_grampa_simpson',\n 'edna_krabappel',\n 'bart_simpson',\n 'moe_szyslak',\n 'charles_montgomery_burns',\n 'chief_wiggum',\n 'lisa_simpson',\n 'abraham_grampa_simpson',\n 'ned_flanders',\n 'kent_brockman',\n 'krusty_the_clown',\n 'mayor_quimby',\n 'comic_book_guy',\n 'marge_simpson',\n 'charles_montgomery_burns',\n 'chief_wiggum',\n 'marge_simpson',\n 'sideshow_bob',\n 'lenny_leonard',\n 'lisa_simpson',\n 'principal_skinner',\n 'abraham_grampa_simpson',\n 'kent_brockman',\n 'mayor_quimby',\n 'marge_simpson',\n 'sideshow_bob',\n 'marge_simpson',\n 'lisa_simpson',\n 'mayor_quimby',\n 'charles_montgomery_burns',\n 'marge_simpson',\n 'lenny_leonard',\n 'edna_krabappel',\n 'krusty_the_clown',\n 'marge_simpson',\n 'nelson_muntz',\n 'krusty_the_clown',\n 'lisa_simpson',\n 'lisa_simpson',\n 'nelson_muntz',\n 'marge_simpson',\n 'milhouse_van_houten',\n 'comic_book_guy',\n 'milhouse_van_houten',\n 'homer_simpson',\n 'apu_nahasapeemapetilon',\n 'lenny_leonard',\n 'sideshow_bob',\n 'abraham_grampa_simpson',\n 'chief_wiggum',\n 'lisa_simpson',\n 'lisa_simpson',\n 'kent_brockman',\n 'homer_simpson',\n 'marge_simpson',\n 'bart_simpson',\n 'principal_skinner',\n 'homer_simpson',\n 'charles_montgomery_burns',\n 'principal_skinner',\n 'sideshow_bob',\n 'ned_flanders',\n 'bart_simpson',\n 'krusty_the_clown',\n 'bart_simpson',\n 'sideshow_bob',\n 'abraham_grampa_simpson',\n 'abraham_grampa_simpson',\n 'milhouse_van_houten',\n 'moe_szyslak',\n 'ned_flanders',\n 'comic_book_guy',\n 'nelson_muntz',\n 'marge_simpson',\n 'apu_nahasapeemapetilon',\n 'moe_szyslak',\n 'charles_montgomery_burns',\n 'nelson_muntz',\n 'comic_book_guy',\n 'principal_skinner',\n 'ned_flanders',\n 'moe_szyslak',\n 'sideshow_bob',\n 'ned_flanders',\n 'moe_szyslak',\n 'chief_wiggum',\n 'mayor_quimby',\n 'lisa_simpson',\n 'bart_simpson',\n 'marge_simpson',\n 'mayor_quimby',\n 'apu_nahasapeemapetilon',\n 'krusty_the_clown',\n 'sideshow_bob',\n 'charles_montgomery_burns',\n 'moe_szyslak',\n 'lenny_leonard',\n 'charles_montgomery_burns',\n 'comic_book_guy',\n 'homer_simpson',\n 'krusty_the_clown',\n 'comic_book_guy',\n 'mayor_quimby',\n 'kent_brockman',\n 'sideshow_bob',\n 'bart_simpson',\n 'comic_book_guy',\n 'ned_flanders',\n 'edna_krabappel',\n 'edna_krabappel',\n 'moe_szyslak',\n 'kent_brockman',\n 'milhouse_van_houten',\n 'edna_krabappel',\n 'edna_krabappel',\n 'milhouse_van_houten',\n 'lisa_simpson',\n 'kent_brockman',\n 'lenny_leonard',\n 'principal_skinner',\n 'lenny_leonard',\n 'edna_krabappel',\n 'homer_simpson',\n 'ned_flanders',\n 'sideshow_bob',\n 'comic_book_guy',\n 'comic_book_guy',\n 'chief_wiggum',\n 'lenny_leonard',\n 'abraham_grampa_simpson',\n 'marge_simpson',\n 'sideshow_bob',\n 'ned_flanders',\n 'mayor_quimby',\n 'homer_simpson',\n 'moe_szyslak',\n 'apu_nahasapeemapetilon',\n 'snake_jailbird',\n 'principal_skinner',\n 'milhouse_van_houten',\n 'marge_simpson',\n 'krusty_the_clown',\n 'apu_nahasapeemapetilon',\n 'marge_simpson',\n 'moe_szyslak',\n 'nelson_muntz',\n 'milhouse_van_houten',\n 'principal_skinner',\n 'milhouse_van_houten',\n 'krusty_the_clown',\n 'ned_flanders',\n 'nelson_muntz',\n 'homer_simpson',\n 'mayor_quimby',\n 'nelson_muntz',\n 'sideshow_bob',\n 'bart_simpson',\n 'mayor_quimby',\n 'homer_simpson',\n 'ned_flanders',\n 'charles_montgomery_burns',\n 'krusty_the_clown',\n 'lisa_simpson',\n 'principal_skinner',\n 'lisa_simpson',\n 'apu_nahasapeemapetilon',\n 'marge_simpson',\n 'sideshow_bob',\n 'nelson_muntz',\n 'ned_flanders',\n 'charles_montgomery_burns',\n 'chief_wiggum',\n 'krusty_the_clown']"
     },
     "execution_count": 19,
     "metadata": {},
     "output_type": "execute_result"
    }
   ],
   "source": [
    "path = 'testset/'\n",
    "pred_data = datasets.ImageFolder(path, transform=transform)\n",
    "pred_dataloader = DataLoader(pred_data, batch_size=1)\n",
    "\n",
    "model.eval()\n",
    "with torch.no_grad():\n",
    "    y_pred = [''] * len(pred_dataloader)\n",
    "    for batch, (X, y) in enumerate(tqdm(pred_dataloader)):\n",
    "        X = X.to(torch.float).to(device)\n",
    "        y_pred[batch] = classes[model(X)[0].argmax(0)]\n",
    "y_pred"
   ],
   "metadata": {
    "collapsed": false,
    "ExecuteTime": {
     "end_time": "2024-02-10T19:07:10.975855Z",
     "start_time": "2024-02-10T19:07:00.911046Z"
    }
   },
   "execution_count": 19
  },
  {
   "cell_type": "markdown",
   "source": [
    "Make submission"
   ],
   "metadata": {
    "collapsed": false
   }
  },
  {
   "cell_type": "code",
   "outputs": [
    {
     "data": {
      "text/plain": "             Id                  Expected\n0      img0.jpg              nelson_muntz\n1      img1.jpg              bart_simpson\n2     img10.jpg              ned_flanders\n3    img100.jpg              chief_wiggum\n4    img101.jpg    apu_nahasapeemapetilon\n..          ...                       ...\n986  img987.jpg              nelson_muntz\n987  img988.jpg              ned_flanders\n988  img989.jpg  charles_montgomery_burns\n989   img99.jpg              chief_wiggum\n990  img990.jpg          krusty_the_clown\n\n[991 rows x 2 columns]",
      "text/html": "<div>\n<style scoped>\n    .dataframe tbody tr th:only-of-type {\n        vertical-align: middle;\n    }\n\n    .dataframe tbody tr th {\n        vertical-align: top;\n    }\n\n    .dataframe thead th {\n        text-align: right;\n    }\n</style>\n<table border=\"1\" class=\"dataframe\">\n  <thead>\n    <tr style=\"text-align: right;\">\n      <th></th>\n      <th>Id</th>\n      <th>Expected</th>\n    </tr>\n  </thead>\n  <tbody>\n    <tr>\n      <th>0</th>\n      <td>img0.jpg</td>\n      <td>nelson_muntz</td>\n    </tr>\n    <tr>\n      <th>1</th>\n      <td>img1.jpg</td>\n      <td>bart_simpson</td>\n    </tr>\n    <tr>\n      <th>2</th>\n      <td>img10.jpg</td>\n      <td>ned_flanders</td>\n    </tr>\n    <tr>\n      <th>3</th>\n      <td>img100.jpg</td>\n      <td>chief_wiggum</td>\n    </tr>\n    <tr>\n      <th>4</th>\n      <td>img101.jpg</td>\n      <td>apu_nahasapeemapetilon</td>\n    </tr>\n    <tr>\n      <th>...</th>\n      <td>...</td>\n      <td>...</td>\n    </tr>\n    <tr>\n      <th>986</th>\n      <td>img987.jpg</td>\n      <td>nelson_muntz</td>\n    </tr>\n    <tr>\n      <th>987</th>\n      <td>img988.jpg</td>\n      <td>ned_flanders</td>\n    </tr>\n    <tr>\n      <th>988</th>\n      <td>img989.jpg</td>\n      <td>charles_montgomery_burns</td>\n    </tr>\n    <tr>\n      <th>989</th>\n      <td>img99.jpg</td>\n      <td>chief_wiggum</td>\n    </tr>\n    <tr>\n      <th>990</th>\n      <td>img990.jpg</td>\n      <td>krusty_the_clown</td>\n    </tr>\n  </tbody>\n</table>\n<p>991 rows × 2 columns</p>\n</div>"
     },
     "execution_count": 20,
     "metadata": {},
     "output_type": "execute_result"
    }
   ],
   "source": [
    "submit = pd.read_csv('sample_submission.csv')\n",
    "submit['Id'] = np.array(pred_data.imgs)[:, 0]\n",
    "submit['Id'] = submit['Id'].apply(lambda x: x.split('/')[-1])\n",
    "submit['Expected'] = y_pred\n",
    "submit.to_csv('submission.csv', index=False)\n",
    "submit"
   ],
   "metadata": {
    "collapsed": false,
    "ExecuteTime": {
     "end_time": "2024-02-10T19:07:10.993178Z",
     "start_time": "2024-02-10T19:07:10.976443Z"
    }
   },
   "execution_count": 20
  }
 ],
 "metadata": {
  "kernelspec": {
   "display_name": "Python 3",
   "language": "python",
   "name": "python3"
  },
  "language_info": {
   "codemirror_mode": {
    "name": "ipython",
    "version": 2
   },
   "file_extension": ".py",
   "mimetype": "text/x-python",
   "name": "python",
   "nbconvert_exporter": "python",
   "pygments_lexer": "ipython2",
   "version": "2.7.6"
  }
 },
 "nbformat": 4,
 "nbformat_minor": 0
}
